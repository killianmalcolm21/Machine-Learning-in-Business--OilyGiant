{
 "cells": [
  {
   "cell_type": "markdown",
   "metadata": {},
   "source": [
    "<div style=\"border:solid green 2px; padding: 20px\">\n",
    "\n",
    "  Hello Malcolm!,\n",
    "  \n",
    "Another project successfully completed - well done! 🏆 Your consistent effort and progress are truly commendable.\n",
    "\n",
    "Our team is here to help you keep pushing forward and honing your skills as you advance through the program.\n",
    "\n",
    "You can contact me via Hub Tripleten for further feedback. This information is described below.\n",
    "\n",
    "**What Was Great**:\n",
    "- Excellent job on following the structure of the project.\n",
    "- You’ve shown strong skills in building the charts in this project.\n",
    "\n",
    "**Tips for Future Projects**:\n",
    "- Consider adding brief comments after the analysis or graph of every dataframe to make your work even more integral.\n",
    "\n",
    "Congratulations again on your accomplishment! Each project you complete adds to your growing expertise, and it’s exciting to see you make such great strides. Keep up the great work! 🎯\n",
    "\n",
    "------------------------------------------------------------------------------------------------------------------------------------------------------------------------------------------------------\n",
    "\n",
    "***Name of the reviewer***: Alexangel Bracho\n",
    "\n",
    "***reviewer's Hub Tripleten link*** : [reviewer's link](https://hub.tripleten.com/u/6b1cbe37)\n"
   ]
  },
  {
   "cell_type": "markdown",
   "metadata": {},
   "source": [
    "<div class=\"alert alert-block alert-warning\">\n",
    "<b>Reviewer's comment</b> <a class=\"tocSkip\"></a>\n",
    "\n",
    "You should add an introduction about what the project will be about, its objectives and within others.\n",
    "\n",
    "</div>"
   ]
  },
  {
   "cell_type": "markdown",
   "metadata": {},
   "source": [
    "# 🛢 OilyGiant Oil Well Selection Project\n",
    "\n",
    "## 📌 Introduction\n",
    "OilyGiant is planning to expand its operations by developing new oil wells in one of three potential regions. Each region has undergone geological exploration, and data has been collected for 100,000 wells in each area. The data includes geological features and the measured oil reserves for each well.\n",
    "\n",
    "The company’s objective is to select the **single most profitable region** for developing 200 new wells out of the 500 wells examined in that region. Due to the high cost and risk involved in oil extraction, a **data-driven decision** is critical to maximize profitability and minimize financial risk.\n",
    "\n",
    "---\n",
    "\n",
    "## 🎯 Objectives\n",
    "The project will:\n",
    "1. **Load and Explore the Data** for the three regions to understand the structure, integrity, and quality of the data.\n",
    "2. **Train Linear Regression Models** to predict oil reserves based on the available geological features.\n",
    "3. **Evaluate Model Accuracy** using RMSE (Root Mean Squared Error) and average predicted reserves.\n",
    "4. **Calculate Profitability** for each region:\n",
    "   - Select the **top 200 wells** with the highest predicted reserves.\n",
    "   - Estimate total profit considering the **budget** and **oil price**.\n",
    "5. **Apply Bootstrapping Technique** to:\n",
    "   - Simulate profitability over multiple random samples.\n",
    "   - Calculate average profit, 95% confidence interval, and risk of loss for each region.\n",
    "6. **Select the Best Region** that meets the risk requirement:\n",
    "   - Risk of loss must be **below 2.5%**.\n",
    "   - The region should have the **highest expected profit**.\n",
    "\n",
    "---\n",
    "\n",
    "## 📊 Business Conditions\n",
    "- **Budget:** $100 million to develop 200 wells.\n",
    "- **Revenue per thousand barrels:** $4,500.\n",
    "- **Region Selection Criteria:**\n",
    "  - Risk of loss **< 2.5%**.\n",
    "  - Highest expected profit among eligible regions.\n",
    "\n",
    "---\n",
    "\n",
    "## ✅ Expected Outcome\n",
    "The project will provide a **clear, justified recommendation** on which region (if any) OilyGiant should select for drilling operations, or advise against development if all regions present unacceptable risk."
   ]
  },
  {
   "cell_type": "markdown",
   "metadata": {},
   "source": [
    "<div class=\"alert alert-block alert-success\">\n",
    "<b>Reviewer's comment v2</b> <a class=\"tocSkip\"></a>\n",
    "\n",
    "Good introduction.\n",
    "\n",
    "</div>"
   ]
  },
  {
   "cell_type": "code",
   "execution_count": 1,
   "metadata": {},
   "outputs": [
    {
     "data": {
      "text/plain": [
       "'\\n================== Region 0 =================='"
      ]
     },
     "metadata": {},
     "output_type": "display_data"
    },
    {
     "data": {
      "text/plain": [
       "'Shape:'"
      ]
     },
     "metadata": {},
     "output_type": "display_data"
    },
    {
     "data": {
      "text/plain": [
       "(100000, 5)"
      ]
     },
     "metadata": {},
     "output_type": "display_data"
    },
    {
     "data": {
      "text/plain": [
       "'\\nInfo:'"
      ]
     },
     "metadata": {},
     "output_type": "display_data"
    },
    {
     "name": "stdout",
     "output_type": "stream",
     "text": [
      "<class 'pandas.core.frame.DataFrame'>\n",
      "RangeIndex: 100000 entries, 0 to 99999\n",
      "Data columns (total 5 columns):\n",
      " #   Column   Non-Null Count   Dtype  \n",
      "---  ------   --------------   -----  \n",
      " 0   id       100000 non-null  object \n",
      " 1   f0       100000 non-null  float64\n",
      " 2   f1       100000 non-null  float64\n",
      " 3   f2       100000 non-null  float64\n",
      " 4   product  100000 non-null  float64\n",
      "dtypes: float64(4), object(1)\n",
      "memory usage: 3.8+ MB\n"
     ]
    },
    {
     "data": {
      "text/plain": [
       "None"
      ]
     },
     "metadata": {},
     "output_type": "display_data"
    },
    {
     "data": {
      "text/plain": [
       "'\\nDescriptive stats:'"
      ]
     },
     "metadata": {},
     "output_type": "display_data"
    },
    {
     "data": {
      "text/html": [
       "<div>\n",
       "<style scoped>\n",
       "    .dataframe tbody tr th:only-of-type {\n",
       "        vertical-align: middle;\n",
       "    }\n",
       "\n",
       "    .dataframe tbody tr th {\n",
       "        vertical-align: top;\n",
       "    }\n",
       "\n",
       "    .dataframe thead th {\n",
       "        text-align: right;\n",
       "    }\n",
       "</style>\n",
       "<table border=\"1\" class=\"dataframe\">\n",
       "  <thead>\n",
       "    <tr style=\"text-align: right;\">\n",
       "      <th></th>\n",
       "      <th>f0</th>\n",
       "      <th>f1</th>\n",
       "      <th>f2</th>\n",
       "      <th>product</th>\n",
       "    </tr>\n",
       "  </thead>\n",
       "  <tbody>\n",
       "    <tr>\n",
       "      <th>count</th>\n",
       "      <td>100000.000000</td>\n",
       "      <td>100000.000000</td>\n",
       "      <td>100000.000000</td>\n",
       "      <td>100000.000000</td>\n",
       "    </tr>\n",
       "    <tr>\n",
       "      <th>mean</th>\n",
       "      <td>0.500419</td>\n",
       "      <td>0.250143</td>\n",
       "      <td>2.502647</td>\n",
       "      <td>92.500000</td>\n",
       "    </tr>\n",
       "    <tr>\n",
       "      <th>std</th>\n",
       "      <td>0.871832</td>\n",
       "      <td>0.504433</td>\n",
       "      <td>3.248248</td>\n",
       "      <td>44.288691</td>\n",
       "    </tr>\n",
       "    <tr>\n",
       "      <th>min</th>\n",
       "      <td>-1.408605</td>\n",
       "      <td>-0.848218</td>\n",
       "      <td>-12.088328</td>\n",
       "      <td>0.000000</td>\n",
       "    </tr>\n",
       "    <tr>\n",
       "      <th>25%</th>\n",
       "      <td>-0.072580</td>\n",
       "      <td>-0.200881</td>\n",
       "      <td>0.287748</td>\n",
       "      <td>56.497507</td>\n",
       "    </tr>\n",
       "    <tr>\n",
       "      <th>50%</th>\n",
       "      <td>0.502360</td>\n",
       "      <td>0.250252</td>\n",
       "      <td>2.515969</td>\n",
       "      <td>91.849972</td>\n",
       "    </tr>\n",
       "    <tr>\n",
       "      <th>75%</th>\n",
       "      <td>1.073581</td>\n",
       "      <td>0.700646</td>\n",
       "      <td>4.715088</td>\n",
       "      <td>128.564089</td>\n",
       "    </tr>\n",
       "    <tr>\n",
       "      <th>max</th>\n",
       "      <td>2.362331</td>\n",
       "      <td>1.343769</td>\n",
       "      <td>16.003790</td>\n",
       "      <td>185.364347</td>\n",
       "    </tr>\n",
       "  </tbody>\n",
       "</table>\n",
       "</div>"
      ],
      "text/plain": [
       "                  f0             f1             f2        product\n",
       "count  100000.000000  100000.000000  100000.000000  100000.000000\n",
       "mean        0.500419       0.250143       2.502647      92.500000\n",
       "std         0.871832       0.504433       3.248248      44.288691\n",
       "min        -1.408605      -0.848218     -12.088328       0.000000\n",
       "25%        -0.072580      -0.200881       0.287748      56.497507\n",
       "50%         0.502360       0.250252       2.515969      91.849972\n",
       "75%         1.073581       0.700646       4.715088     128.564089\n",
       "max         2.362331       1.343769      16.003790     185.364347"
      ]
     },
     "metadata": {},
     "output_type": "display_data"
    },
    {
     "data": {
      "text/plain": [
       "'\\nMissing values:\\n'"
      ]
     },
     "metadata": {},
     "output_type": "display_data"
    },
    {
     "data": {
      "text/plain": [
       "id         0\n",
       "f0         0\n",
       "f1         0\n",
       "f2         0\n",
       "product    0\n",
       "dtype: int64"
      ]
     },
     "metadata": {},
     "output_type": "display_data"
    },
    {
     "data": {
      "text/plain": [
       "'Duplicate rows:'"
      ]
     },
     "metadata": {},
     "output_type": "display_data"
    },
    {
     "data": {
      "text/plain": [
       "0"
      ]
     },
     "metadata": {},
     "output_type": "display_data"
    },
    {
     "data": {
      "text/plain": [
       "'\\n================== Region 1 =================='"
      ]
     },
     "metadata": {},
     "output_type": "display_data"
    },
    {
     "data": {
      "text/plain": [
       "'Shape:'"
      ]
     },
     "metadata": {},
     "output_type": "display_data"
    },
    {
     "data": {
      "text/plain": [
       "(100000, 5)"
      ]
     },
     "metadata": {},
     "output_type": "display_data"
    },
    {
     "data": {
      "text/plain": [
       "'\\nInfo:'"
      ]
     },
     "metadata": {},
     "output_type": "display_data"
    },
    {
     "name": "stdout",
     "output_type": "stream",
     "text": [
      "<class 'pandas.core.frame.DataFrame'>\n",
      "RangeIndex: 100000 entries, 0 to 99999\n",
      "Data columns (total 5 columns):\n",
      " #   Column   Non-Null Count   Dtype  \n",
      "---  ------   --------------   -----  \n",
      " 0   id       100000 non-null  object \n",
      " 1   f0       100000 non-null  float64\n",
      " 2   f1       100000 non-null  float64\n",
      " 3   f2       100000 non-null  float64\n",
      " 4   product  100000 non-null  float64\n",
      "dtypes: float64(4), object(1)\n",
      "memory usage: 3.8+ MB\n"
     ]
    },
    {
     "data": {
      "text/plain": [
       "None"
      ]
     },
     "metadata": {},
     "output_type": "display_data"
    },
    {
     "data": {
      "text/plain": [
       "'\\nDescriptive stats:'"
      ]
     },
     "metadata": {},
     "output_type": "display_data"
    },
    {
     "data": {
      "text/html": [
       "<div>\n",
       "<style scoped>\n",
       "    .dataframe tbody tr th:only-of-type {\n",
       "        vertical-align: middle;\n",
       "    }\n",
       "\n",
       "    .dataframe tbody tr th {\n",
       "        vertical-align: top;\n",
       "    }\n",
       "\n",
       "    .dataframe thead th {\n",
       "        text-align: right;\n",
       "    }\n",
       "</style>\n",
       "<table border=\"1\" class=\"dataframe\">\n",
       "  <thead>\n",
       "    <tr style=\"text-align: right;\">\n",
       "      <th></th>\n",
       "      <th>f0</th>\n",
       "      <th>f1</th>\n",
       "      <th>f2</th>\n",
       "      <th>product</th>\n",
       "    </tr>\n",
       "  </thead>\n",
       "  <tbody>\n",
       "    <tr>\n",
       "      <th>count</th>\n",
       "      <td>100000.000000</td>\n",
       "      <td>100000.000000</td>\n",
       "      <td>100000.000000</td>\n",
       "      <td>100000.000000</td>\n",
       "    </tr>\n",
       "    <tr>\n",
       "      <th>mean</th>\n",
       "      <td>1.141296</td>\n",
       "      <td>-4.796579</td>\n",
       "      <td>2.494541</td>\n",
       "      <td>68.825000</td>\n",
       "    </tr>\n",
       "    <tr>\n",
       "      <th>std</th>\n",
       "      <td>8.965932</td>\n",
       "      <td>5.119872</td>\n",
       "      <td>1.703572</td>\n",
       "      <td>45.944423</td>\n",
       "    </tr>\n",
       "    <tr>\n",
       "      <th>min</th>\n",
       "      <td>-31.609576</td>\n",
       "      <td>-26.358598</td>\n",
       "      <td>-0.018144</td>\n",
       "      <td>0.000000</td>\n",
       "    </tr>\n",
       "    <tr>\n",
       "      <th>25%</th>\n",
       "      <td>-6.298551</td>\n",
       "      <td>-8.267985</td>\n",
       "      <td>1.000021</td>\n",
       "      <td>26.953261</td>\n",
       "    </tr>\n",
       "    <tr>\n",
       "      <th>50%</th>\n",
       "      <td>1.153055</td>\n",
       "      <td>-4.813172</td>\n",
       "      <td>2.011479</td>\n",
       "      <td>57.085625</td>\n",
       "    </tr>\n",
       "    <tr>\n",
       "      <th>75%</th>\n",
       "      <td>8.621015</td>\n",
       "      <td>-1.332816</td>\n",
       "      <td>3.999904</td>\n",
       "      <td>107.813044</td>\n",
       "    </tr>\n",
       "    <tr>\n",
       "      <th>max</th>\n",
       "      <td>29.421755</td>\n",
       "      <td>18.734063</td>\n",
       "      <td>5.019721</td>\n",
       "      <td>137.945408</td>\n",
       "    </tr>\n",
       "  </tbody>\n",
       "</table>\n",
       "</div>"
      ],
      "text/plain": [
       "                  f0             f1             f2        product\n",
       "count  100000.000000  100000.000000  100000.000000  100000.000000\n",
       "mean        1.141296      -4.796579       2.494541      68.825000\n",
       "std         8.965932       5.119872       1.703572      45.944423\n",
       "min       -31.609576     -26.358598      -0.018144       0.000000\n",
       "25%        -6.298551      -8.267985       1.000021      26.953261\n",
       "50%         1.153055      -4.813172       2.011479      57.085625\n",
       "75%         8.621015      -1.332816       3.999904     107.813044\n",
       "max        29.421755      18.734063       5.019721     137.945408"
      ]
     },
     "metadata": {},
     "output_type": "display_data"
    },
    {
     "data": {
      "text/plain": [
       "'\\nMissing values:\\n'"
      ]
     },
     "metadata": {},
     "output_type": "display_data"
    },
    {
     "data": {
      "text/plain": [
       "id         0\n",
       "f0         0\n",
       "f1         0\n",
       "f2         0\n",
       "product    0\n",
       "dtype: int64"
      ]
     },
     "metadata": {},
     "output_type": "display_data"
    },
    {
     "data": {
      "text/plain": [
       "'Duplicate rows:'"
      ]
     },
     "metadata": {},
     "output_type": "display_data"
    },
    {
     "data": {
      "text/plain": [
       "0"
      ]
     },
     "metadata": {},
     "output_type": "display_data"
    },
    {
     "data": {
      "text/plain": [
       "'\\n================== Region 2 =================='"
      ]
     },
     "metadata": {},
     "output_type": "display_data"
    },
    {
     "data": {
      "text/plain": [
       "'Shape:'"
      ]
     },
     "metadata": {},
     "output_type": "display_data"
    },
    {
     "data": {
      "text/plain": [
       "(100000, 5)"
      ]
     },
     "metadata": {},
     "output_type": "display_data"
    },
    {
     "data": {
      "text/plain": [
       "'\\nInfo:'"
      ]
     },
     "metadata": {},
     "output_type": "display_data"
    },
    {
     "name": "stdout",
     "output_type": "stream",
     "text": [
      "<class 'pandas.core.frame.DataFrame'>\n",
      "RangeIndex: 100000 entries, 0 to 99999\n",
      "Data columns (total 5 columns):\n",
      " #   Column   Non-Null Count   Dtype  \n",
      "---  ------   --------------   -----  \n",
      " 0   id       100000 non-null  object \n",
      " 1   f0       100000 non-null  float64\n",
      " 2   f1       100000 non-null  float64\n",
      " 3   f2       100000 non-null  float64\n",
      " 4   product  100000 non-null  float64\n",
      "dtypes: float64(4), object(1)\n",
      "memory usage: 3.8+ MB\n"
     ]
    },
    {
     "data": {
      "text/plain": [
       "None"
      ]
     },
     "metadata": {},
     "output_type": "display_data"
    },
    {
     "data": {
      "text/plain": [
       "'\\nDescriptive stats:'"
      ]
     },
     "metadata": {},
     "output_type": "display_data"
    },
    {
     "data": {
      "text/html": [
       "<div>\n",
       "<style scoped>\n",
       "    .dataframe tbody tr th:only-of-type {\n",
       "        vertical-align: middle;\n",
       "    }\n",
       "\n",
       "    .dataframe tbody tr th {\n",
       "        vertical-align: top;\n",
       "    }\n",
       "\n",
       "    .dataframe thead th {\n",
       "        text-align: right;\n",
       "    }\n",
       "</style>\n",
       "<table border=\"1\" class=\"dataframe\">\n",
       "  <thead>\n",
       "    <tr style=\"text-align: right;\">\n",
       "      <th></th>\n",
       "      <th>f0</th>\n",
       "      <th>f1</th>\n",
       "      <th>f2</th>\n",
       "      <th>product</th>\n",
       "    </tr>\n",
       "  </thead>\n",
       "  <tbody>\n",
       "    <tr>\n",
       "      <th>count</th>\n",
       "      <td>100000.000000</td>\n",
       "      <td>100000.000000</td>\n",
       "      <td>100000.000000</td>\n",
       "      <td>100000.000000</td>\n",
       "    </tr>\n",
       "    <tr>\n",
       "      <th>mean</th>\n",
       "      <td>0.002023</td>\n",
       "      <td>-0.002081</td>\n",
       "      <td>2.495128</td>\n",
       "      <td>95.000000</td>\n",
       "    </tr>\n",
       "    <tr>\n",
       "      <th>std</th>\n",
       "      <td>1.732045</td>\n",
       "      <td>1.730417</td>\n",
       "      <td>3.473445</td>\n",
       "      <td>44.749921</td>\n",
       "    </tr>\n",
       "    <tr>\n",
       "      <th>min</th>\n",
       "      <td>-8.760004</td>\n",
       "      <td>-7.084020</td>\n",
       "      <td>-11.970335</td>\n",
       "      <td>0.000000</td>\n",
       "    </tr>\n",
       "    <tr>\n",
       "      <th>25%</th>\n",
       "      <td>-1.162288</td>\n",
       "      <td>-1.174820</td>\n",
       "      <td>0.130359</td>\n",
       "      <td>59.450441</td>\n",
       "    </tr>\n",
       "    <tr>\n",
       "      <th>50%</th>\n",
       "      <td>0.009424</td>\n",
       "      <td>-0.009482</td>\n",
       "      <td>2.484236</td>\n",
       "      <td>94.925613</td>\n",
       "    </tr>\n",
       "    <tr>\n",
       "      <th>75%</th>\n",
       "      <td>1.158535</td>\n",
       "      <td>1.163678</td>\n",
       "      <td>4.858794</td>\n",
       "      <td>130.595027</td>\n",
       "    </tr>\n",
       "    <tr>\n",
       "      <th>max</th>\n",
       "      <td>7.238262</td>\n",
       "      <td>7.844801</td>\n",
       "      <td>16.739402</td>\n",
       "      <td>190.029838</td>\n",
       "    </tr>\n",
       "  </tbody>\n",
       "</table>\n",
       "</div>"
      ],
      "text/plain": [
       "                  f0             f1             f2        product\n",
       "count  100000.000000  100000.000000  100000.000000  100000.000000\n",
       "mean        0.002023      -0.002081       2.495128      95.000000\n",
       "std         1.732045       1.730417       3.473445      44.749921\n",
       "min        -8.760004      -7.084020     -11.970335       0.000000\n",
       "25%        -1.162288      -1.174820       0.130359      59.450441\n",
       "50%         0.009424      -0.009482       2.484236      94.925613\n",
       "75%         1.158535       1.163678       4.858794     130.595027\n",
       "max         7.238262       7.844801      16.739402     190.029838"
      ]
     },
     "metadata": {},
     "output_type": "display_data"
    },
    {
     "data": {
      "text/plain": [
       "'\\nMissing values:\\n'"
      ]
     },
     "metadata": {},
     "output_type": "display_data"
    },
    {
     "data": {
      "text/plain": [
       "id         0\n",
       "f0         0\n",
       "f1         0\n",
       "f2         0\n",
       "product    0\n",
       "dtype: int64"
      ]
     },
     "metadata": {},
     "output_type": "display_data"
    },
    {
     "data": {
      "text/plain": [
       "'Duplicate rows:'"
      ]
     },
     "metadata": {},
     "output_type": "display_data"
    },
    {
     "data": {
      "text/plain": [
       "0"
      ]
     },
     "metadata": {},
     "output_type": "display_data"
    }
   ],
   "source": [
    "\n",
    "# Step 1.1 - Load libraries\n",
    "import pandas as pd\n",
    "import matplotlib.pyplot as plt\n",
    "from sklearn.model_selection import train_test_split\n",
    "from sklearn.linear_model import LinearRegression\n",
    "from sklearn.metrics import mean_squared_error\n",
    "import numpy as np\n",
    "from sklearn.ensemble import RandomForestRegressor\n",
    "import seaborn as sns\n",
    "\n",
    "# Step 1.2 - Load all three datasets\n",
    "data_0 = pd.read_csv('/datasets/geo_data_0.csv')\n",
    "data_1 = pd.read_csv('/datasets/geo_data_1.csv')\n",
    "data_2 = pd.read_csv('/datasets/geo_data_2.csv')\n",
    "\n",
    "# Step 1.3 - Inspect each dataset\n",
    "datasets = [data_0, data_1, data_2]\n",
    "for i, data in enumerate(datasets):\n",
    "    display(f\"\\n================== Region {i} ==================\")\n",
    "    display(\"Shape:\", data.shape)\n",
    "    display(\"\\nInfo:\")\n",
    "    display(data.info())\n",
    "    display(\"\\nDescriptive stats:\")\n",
    "    display(data.describe())\n",
    "    display(\"\\nMissing values:\\n\", data.isna().sum())\n",
    "    display(\"Duplicate rows:\", data.duplicated().sum())"
   ]
  },
  {
   "cell_type": "markdown",
   "metadata": {},
   "source": [
    "🧾 Region Data Analysis Summary\n",
    "\n",
    "The initial data analysis across all three regions shows that each dataset is complete, with no missing or duplicate values, and contains 100,000 records with consistent structure. Region 2 stands out as the most promising, with the highest average oil reserves (95,000 barrels), a strong median, and well-distributed, stable features—ideal conditions for linear regression. Region 0 also performs well, with slightly lower average reserves (92,500 barrels) and a similarly balanced distribution, making it a solid secondary option.\n",
    "\n",
    "Region 1, however, appears to be the least favorable. It has the lowest average reserves (68,830 barrels), a highly skewed distribution, and extremely wide-ranging feature values that could reduce model performance and increase financial risk. Based on this initial evaluation, Region 2 offers the best potential for profitable oil well development."
   ]
  },
  {
   "cell_type": "markdown",
   "metadata": {},
   "source": [
    "<div class=\"alert alert-block alert-success\">\n",
    "<b>Reviewer's comment</b> <a class=\"tocSkip\"></a>\n",
    "\n",
    "Good job with the preview of the data and the handling of the missing and duplicate values.\n",
    "\n",
    "</div>"
   ]
  },
  {
   "cell_type": "code",
   "execution_count": 2,
   "metadata": {},
   "outputs": [
    {
     "data": {
      "image/png": "[encoded data removed]",
      "text/plain": [
       "<Figure size 800x400 with 1 Axes>"
      ]
     },
     "metadata": {},
     "output_type": "display_data"
    },
    {
     "data": {
      "image/png": "[encoded data removed]",
      "text/plain": [
       "<Figure size 800x400 with 1 Axes>"
      ]
     },
     "metadata": {},
     "output_type": "display_data"
    },
    {
     "data": {
      "image/png": "[encoded data removed]",
      "text/plain": [
       "<Figure size 800x400 with 1 Axes>"
      ]
     },
     "metadata": {},
     "output_type": "display_data"
    }
   ],
   "source": [
    "# Step 1.5 - Visualize target distribution\n",
    "for i, data in enumerate([data_0, data_1, data_2]):\n",
    "    plt.figure(figsize=(8, 4))\n",
    "    data['product'].hist(bins=50)\n",
    "    plt.title(f'Region {i} - Product Distribution (Thousand Barrels)')\n",
    "    plt.xlabel('Product (k barrels)')\n",
    "    plt.ylabel('Number of wells')\n",
    "    plt.grid(True)\n",
    "    plt.show()\n"
   ]
  },
  {
   "cell_type": "markdown",
   "metadata": {},
   "source": [
    "<div class=\"alert alert-block alert-success\">\n",
    "<b>Reviewer's comment</b> <a class=\"tocSkip\"></a>\n",
    "\n",
    "Good job with these histograms.\n",
    "\n",
    "</div>"
   ]
  },
  {
   "cell_type": "markdown",
   "metadata": {},
   "source": [
    "<div class=\"alert alert-block alert-warning\">\n",
    "<b>Reviewer's comment</b> <a class=\"tocSkip\"></a>\n",
    "\n",
    "You could have included the features as well not only the target ('product') to have a wider view. Additionally, you might have checked for the correlation between the variables.\n",
    "\n",
    "</div>"
   ]
  },
  {
   "cell_type": "code",
   "execution_count": 3,
   "metadata": {},
   "outputs": [],
   "source": [
    "# Step 1.6 - Separate features and target for each region\n",
    "features_0 = data_0.drop(['id', 'product'], axis=1)\n",
    "target_0 = data_0['product']\n",
    "\n",
    "features_1 = data_1.drop(['id', 'product'], axis=1)\n",
    "target_1 = data_1['product']\n",
    "\n",
    "features_2 = data_2.drop(['id', 'product'], axis=1)\n",
    "target_2 = data_2['product']\n",
    "\n",
    "\n",
    "# Region 0\n",
    "features_train_0, features_valid_0, target_train_0, target_valid_0 = train_test_split(\n",
    "    features_0, target_0, test_size=0.25, random_state=12345)\n",
    "\n",
    "# Region 1\n",
    "features_train_1, features_valid_1, target_train_1, target_valid_1 = train_test_split(\n",
    "    features_1, target_1, test_size=0.25, random_state=12345)\n",
    "\n",
    "# Region 2\n",
    "features_train_2, features_valid_2, target_train_2, target_valid_2 = train_test_split(\n",
    "    features_2, target_2, test_size=0.25, random_state=12345)"
   ]
  },
  {
   "cell_type": "code",
   "execution_count": 4,
   "metadata": {},
   "outputs": [
    {
     "name": "stdout",
     "output_type": "stream",
     "text": [
      "Region 0 - RMSE: 37.58, Mean Prediction: 92.59\n",
      "Region 1 - RMSE: 0.89, Mean Prediction: 68.73\n",
      "Region 2 - RMSE: 40.03, Mean Prediction: 94.97\n",
      "Break-even volume per well: 111.11 thousand barrels\n",
      "Region 0 - Mean Predicted Volume: 92.59\n",
      "Region 1 - Mean Predicted Volume: 68.73\n",
      "Region 2 - Mean Predicted Volume: 94.97\n",
      "Region 0 predicted reserves are below break-even volume ❌\n",
      "Region 1 predicted reserves are below break-even volume ❌\n",
      "Region 2 predicted reserves are below break-even volume ❌\n"
     ]
    }
   ],
   "source": [
    "\n",
    "\n",
    "# Initialize the model\n",
    "model_0 = LinearRegression()\n",
    "model_1 = LinearRegression()\n",
    "model_2 = LinearRegression()\n",
    "\n",
    "# Train the models\n",
    "model_0.fit(features_train_0, target_train_0)\n",
    "model_1.fit(features_train_1, target_train_1)\n",
    "model_2.fit(features_train_2, target_train_2)\n",
    "\n",
    "# Predict validation targets\n",
    "predictions_0 = model_0.predict(features_valid_0)\n",
    "predictions_1 = model_1.predict(features_valid_1)\n",
    "predictions_2 = model_2.predict(features_valid_2)\n",
    "\n",
    "\n",
    "# Region 0\n",
    "rmse_0 = mean_squared_error(target_valid_0, predictions_0, squared=False)\n",
    "mean_pred_0 = predictions_0.mean()\n",
    "\n",
    "# Region 1\n",
    "rmse_1 = mean_squared_error(target_valid_1, predictions_1, squared=False)\n",
    "mean_pred_1 = predictions_1.mean()\n",
    "\n",
    "# Region 2\n",
    "rmse_2 = mean_squared_error(target_valid_2, predictions_2, squared=False)\n",
    "mean_pred_2 = predictions_2.mean()\n",
    "\n",
    "print(f\"Region 0 - RMSE: {rmse_0:.2f}, Mean Prediction: {mean_pred_0:.2f}\")\n",
    "print(f\"Region 1 - RMSE: {rmse_1:.2f}, Mean Prediction: {mean_pred_1:.2f}\")\n",
    "print(f\"Region 2 - RMSE: {rmse_2:.2f}, Mean Prediction: {mean_pred_2:.2f}\")\n",
    "\n",
    "# Business parameters\n",
    "BUDGET = 100_000_000          # $100 million\n",
    "WELLS_SELECTED = 200          # wells to be developed\n",
    "PRICE_PER_BARREL = 4.5        # $ per barrel\n",
    "PRICE_PER_THOUSAND = PRICE_PER_BARREL * 1000  # $ per thousand barrels\n",
    "\n",
    "# Break-even: Volume (thousand barrels) needed per well to avoid losses\n",
    "break_even_volume = BUDGET / (WELLS_SELECTED * PRICE_PER_THOUSAND)\n",
    "print(f\"Break-even volume per well: {break_even_volume:.2f} thousand barrels\")\n",
    "\n",
    "# Compare to average predicted reserves for each region\n",
    "print(f\"Region 0 - Mean Predicted Volume: {mean_pred_0:.2f}\")\n",
    "print(f\"Region 1 - Mean Predicted Volume: {mean_pred_1:.2f}\")\n",
    "print(f\"Region 2 - Mean Predicted Volume: {mean_pred_2:.2f}\")\n",
    "\n",
    "# Quick evaluation\n",
    "if mean_pred_0 > break_even_volume:\n",
    "    print(\"Region 0 predicted reserves exceed break-even volume ✅\")\n",
    "else:\n",
    "    print(\"Region 0 predicted reserves are below break-even volume ❌\")\n",
    "\n",
    "if mean_pred_1 > break_even_volume:\n",
    "    print(\"Region 1 predicted reserves exceed break-even volume ✅\")\n",
    "else:\n",
    "    print(\"Region 1 predicted reserves are below break-even volume ❌\")\n",
    "\n",
    "if mean_pred_2 > break_even_volume:\n",
    "    print(\"Region 2 predicted reserves exceed break-even volume ✅\")\n",
    "else:\n",
    "    print(\"Region 2 predicted reserves are below break-even volume ❌\")\n"
   ]
  },
  {
   "cell_type": "markdown",
   "metadata": {},
   "source": [
    "\n",
    "Model Predictions vs Break-even:\n",
    "\n",
    "Region 0: Predicted mean = 92.59 (❌ Below break-even)\n",
    "RMSE is relatively high (37.58), indicating moderate prediction error.\n",
    "\n",
    "Region 1: Predicted mean = 68.73 (❌ Below break-even)\n",
    "RMSE is extremely low (0.89), meaning very accurate predictions, but reserves are far below the threshold.\n",
    "\n",
    "Region 2: Predicted mean = 94.97 (❌ Below break-even)\n",
    "RMSE is moderate (40.03), predictions are less precise and reserves are still below break-even."
   ]
  },
  {
   "cell_type": "markdown",
   "metadata": {},
   "source": [
    "<div class=\"alert alert-block alert-success\">\n",
    "<b>Reviewer's comment</b> <a class=\"tocSkip\"></a>\n",
    "\n",
    "Good work with the training of the models.\n",
    "\n",
    "</div>"
   ]
  },
  {
   "cell_type": "markdown",
   "metadata": {},
   "source": [
    "Step 3: Profit Calculation & Risk Assessment\n",
    "🔧 Step-by-step Breakdown:\n",
    "Set constants\n",
    "\n",
    "REVENUE_PER_BARREL = 4.5 (in thousands of dollars)\n",
    "\n",
    "Each well costs $10 million (which we'll factor into profit)\n",
    "\n",
    "Create DataFrames for validation sets\n",
    "Combine predictions and actual target values.\n",
    "\n",
    "Sort by predicted production\n",
    "Take the top 200 wells with the highest predicted values.\n",
    "\n",
    "Calculate profit\n",
    "profit = actual_product * REVENUE_PER_BARREL - 10_000"
   ]
  },
  {
   "cell_type": "code",
   "execution_count": 9,
   "metadata": {},
   "outputs": [
    {
     "name": "stdout",
     "output_type": "stream",
     "text": [
      "Region 0 - Profit: $222,875,311.71\n",
      "Region 1 - Profit: $210,362,861.46\n",
      "Region 2 - Profit: $211,081,875.36\n"
     ]
    }
   ],
   "source": [
    "\n",
    "\n",
    "REVENUE_PER_THOUSAND_BARRELS = 4_500    # $ per thousand barrels\n",
    "TOTAL_BUDGET = 100_000_000              # $ total for 200 wells\n",
    "\n",
    "def calculate_profit(predictions, targets):\n",
    "    # Combine predictions and actual values\n",
    "    df = pd.DataFrame({'predicted': predictions, 'actual': targets.reset_index(drop=True)})\n",
    "    \n",
    "    # Select top 500 wells by predicted reserves\n",
    "    selected = df.sort_values(by='predicted', ascending=False).head(500)\n",
    "    \n",
    "    # Calculate total product (thousand barrels)\n",
    "    total_product = selected['actual'].sum()\n",
    "    \n",
    "    # Calculate profit: total revenue - total budget\n",
    "    profit = total_product * REVENUE_PER_THOUSAND_BARRELS - TOTAL_BUDGET\n",
    "    \n",
    "    return profit\n",
    "\n",
    "# Calculate profits for each region\n",
    "profit_0 = calculate_profit(predictions_0, target_valid_0)\n",
    "profit_1 = calculate_profit(predictions_1, target_valid_1)\n",
    "profit_2 = calculate_profit(predictions_2, target_valid_2)\n",
    "\n",
    "# Display results\n",
    "print(f\"Region 0 - Profit: ${profit_0:,.2f}\")\n",
    "print(f\"Region 1 - Profit: ${profit_1:,.2f}\")\n",
    "print(f\"Region 2 - Profit: ${profit_2:,.2f}\")\n",
    "\n"
   ]
  },
  {
   "cell_type": "markdown",
   "metadata": {},
   "source": [
    "<div class=\"alert alert-block alert-warning\">\n",
    "<b>Reviewer's comment v2</b> <a class=\"tocSkip\"></a>\n",
    "\n",
    "Remember that you need to select the best 200 wells, therefore, you need to use `selected = df.sort_values(by='predicted', ascending=False).head(200)` (as was stated in the hint given to you) instead of `selected = df.sort_values(by='predicted', ascending=False).head(500)`.\n",
    "\n",
    "</div>"
   ]
  },
  {
   "cell_type": "markdown",
   "metadata": {},
   "source": [
    "All three regions show negative total profits when developing the top 200 wells based on the model predictions. This means, under current estimates and costs, none of the regions are profitable given the $10 million development cost per well and the revenue assumptions.\n",
    "\n",
    "Among them, Region 0 has the smallest loss (~$1.87 billion), slightly better than Regions 1 and 2. Although Region 2 had the highest predicted yields, the high costs and prediction errors are driving the overall profit into negative territory.\n",
    "\n",
    "This suggests that either:\n",
    "\n",
    "The current cost assumptions are too high,\n",
    "\n",
    "The predicted reserves might be overestimated,\n",
    "\n",
    "Or further risk assessment and filtering (like bootstrapping) is needed to identify wells with more reliable profit potential."
   ]
  },
  {
   "cell_type": "markdown",
   "metadata": {},
   "source": [
    "✅ Bootstrapping the Profits\n",
    "🎯 Goal:\n",
    "Use bootstrapping to simulate 1,000 random samples of 200 wells from each region's validation data (based on predicted top wells). This gives us a distribution of potential profits, helping us assess risk (e.g., chance of loss)."
   ]
  },
  {
   "cell_type": "code",
   "execution_count": 6,
   "metadata": {},
   "outputs": [
    {
     "name": "stdout",
     "output_type": "stream",
     "text": [
      "📊 Region 0\n",
      "Mean Profit: 3,883,450.43\n",
      "95% CI: -998,680.30 to 8,773,652.89\n",
      "Risk of Loss: 6.60%\n",
      "\n",
      "📊 Region 1\n",
      "Mean Profit: 4,573,215.71\n",
      "95% CI: 502,583.70 to 8,723,271.30\n",
      "Risk of Loss: 1.70%\n",
      "\n",
      "📊 Region 2\n",
      "Mean Profit: 3,875,514.95\n",
      "95% CI: -955,100.56 to 8,813,186.76\n",
      "Risk of Loss: 6.50%\n"
     ]
    }
   ],
   "source": [
    "\n",
    "REVENUE_PER_THOUSAND_BARRELS = 4.5 * 1000  # $4,500 per thousand barrels\n",
    "TOTAL_BUDGET = 100_000_000  # $100 million total budget\n",
    "\n",
    "# ---------------------------\n",
    "# 1️⃣ Calculate profit function\n",
    "# ---------------------------\n",
    "def calculate_profit(predictions, targets):\n",
    "    # Combine predictions and actual values (no reset_index needed)\n",
    "    df = pd.DataFrame({'predicted': predictions, 'actual': targets})\n",
    "    \n",
    "    # Select top 200 wells by predicted reserves\n",
    "    selected = df.sort_values(by='predicted', ascending=False).head(200)\n",
    "    \n",
    "    # Calculate profit\n",
    "    profit = selected['actual'].sum() * REVENUE_PER_THOUSAND_BARRELS - TOTAL_BUDGET\n",
    "    return profit\n",
    "\n",
    "# ---------------------------\n",
    "# 2️⃣ Bootstrap profit function\n",
    "# ---------------------------\n",
    "def bootstrap_profit(predictions, targets, num_bootstrap=1000, sample_size=500, seed=12345):\n",
    "    np.random.seed(seed)\n",
    "    values = []\n",
    "    \n",
    "    df = pd.DataFrame({'predicted': predictions, 'actual': targets})\n",
    "    \n",
    "    for i in range(num_bootstrap):\n",
    "        # Step 1: Sample 500 wells (exploration phase)\n",
    "        sample = df.sample(n=sample_size, replace=True, random_state=i)\n",
    "        \n",
    "        # Step 2: Calculate profit using top 200 wells\n",
    "        profit = calculate_profit(sample['predicted'], sample['actual'])\n",
    "        values.append(profit)\n",
    "    \n",
    "    return pd.Series(values)\n",
    "\n",
    "# ---------------------------\n",
    "# 3️⃣ Region 0 Bootstrap\n",
    "# ---------------------------\n",
    "profits_0 = bootstrap_profit(predictions_0, target_valid_0)\n",
    "print(\"📊 Region 0\")\n",
    "print(f\"Mean Profit: {profits_0.mean():,.2f}\")\n",
    "print(f\"95% CI: {profits_0.quantile(0.025):,.2f} to {profits_0.quantile(0.975):,.2f}\")\n",
    "print(f\"Risk of Loss: {(profits_0 < 0).mean() * 100:.2f}%\\n\")\n",
    "\n",
    "# ---------------------------\n",
    "# 4️⃣ Region 1 Bootstrap\n",
    "# ---------------------------\n",
    "profits_1 = bootstrap_profit(predictions_1, target_valid_1)\n",
    "print(\"📊 Region 1\")\n",
    "print(f\"Mean Profit: {profits_1.mean():,.2f}\")\n",
    "print(f\"95% CI: {profits_1.quantile(0.025):,.2f} to {profits_1.quantile(0.975):,.2f}\")\n",
    "print(f\"Risk of Loss: {(profits_1 < 0).mean() * 100:.2f}%\\n\")\n",
    "\n",
    "# ---------------------------\n",
    "# 5️⃣ Region 2 Bootstrap\n",
    "# ---------------------------\n",
    "profits_2 = bootstrap_profit(predictions_2, target_valid_2)\n",
    "print(\"📊 Region 2\")\n",
    "print(f\"Mean Profit: {profits_2.mean():,.2f}\")\n",
    "print(f\"95% CI: {profits_2.quantile(0.025):,.2f} to {profits_2.quantile(0.975):,.2f}\")\n",
    "print(f\"Risk of Loss: {(profits_2 < 0).mean() * 100:.2f}%\")\n",
    "\n",
    "\n"
   ]
  },
  {
   "cell_type": "markdown",
   "metadata": {},
   "source": [
    "<div class=\"alert alert-block alert-success\">\n",
    "<b>Reviewer's comment</b> <a class=\"tocSkip\"></a>\n",
    "\n",
    "Good results.\n",
    "\n",
    "</div>"
   ]
  },
  {
   "cell_type": "markdown",
   "metadata": {},
   "source": [
    "\n",
    "📄 Summary of Results\n",
    "Region 1 stands out with the highest mean profit ($4.57M) and the lowest risk of loss (1.7%), which is under the acceptable 2.5% threshold.\n",
    "\n",
    "Regions 0 and 2 have similar mean profits (~$3.88M) but both show higher risk of loss (>6%), exceeding the acceptable threshold.\n",
    "\n",
    "Based on business rules, Region 1 is the optimal choice for well development because it meets the risk criteria and maximizes profit.\n",
    "\n"
   ]
  },
  {
   "cell_type": "code",
   "execution_count": null,
   "metadata": {},
   "outputs": [],
   "source": []
  },
  {
   "cell_type": "code",
   "execution_count": 7,
   "metadata": {},
   "outputs": [
    {
     "data": {
      "image/png": "[encoded data removed]",
      "text/plain": [
       "<Figure size 1000x500 with 1 Axes>"
      ]
     },
     "metadata": {},
     "output_type": "display_data"
    },
    {
     "data": {
      "image/png": "[encoded data removed]",
      "text/plain": [
       "<Figure size 1000x500 with 1 Axes>"
      ]
     },
     "metadata": {},
     "output_type": "display_data"
    }
   ],
   "source": [
    "\n",
    "# Data\n",
    "regions = [\"Region 0\", \"Region 1\", \"Region 2\"]\n",
    "mean_profits = [3883450.43, 4573215.71, 3875514.95]\n",
    "risks = [6.60, 1.70, 6.50]\n",
    "\n",
    "# Bar chart for Mean Profit\n",
    "plt.figure(figsize=(10,5))\n",
    "plt.bar(regions, mean_profits, color=['red','green','red'])\n",
    "plt.axhline(y=max(mean_profits), color='gray', linestyle='--', linewidth=1)\n",
    "plt.title(\"Mean Profit by Region\", fontsize=14)\n",
    "plt.ylabel(\"Profit (USD)\")\n",
    "plt.grid(axis='y', linestyle='--', alpha=0.7)\n",
    "plt.show()\n",
    "\n",
    "# Bar chart for Risk of Loss\n",
    "plt.figure(figsize=(10,5))\n",
    "plt.bar(regions, risks, color=['red','green','red'])\n",
    "plt.axhline(y=2.5, color='orange', linestyle='--', linewidth=1, label=\"Risk Threshold (2.5%)\")\n",
    "plt.title(\"Risk of Loss by Region\", fontsize=14)\n",
    "plt.ylabel(\"Risk (%)\")\n",
    "plt.legend()\n",
    "plt.grid(axis='y', linestyle='--', alpha=0.7)\n",
    "plt.show()"
   ]
  },
  {
   "cell_type": "markdown",
   "metadata": {},
   "source": [
    "<div class=\"alert alert-block alert-success\">\n",
    "<b>Reviewer's comment v2</b> <a class=\"tocSkip\"></a>\n",
    "\n",
    "Good charts.\n",
    "\n",
    "</div>"
   ]
  },
  {
   "cell_type": "markdown",
   "metadata": {},
   "source": [
    "📌 Final Conclusion & Recommendation\n",
    "After analyzing all three regions using linear regression models, profit calculations, and bootstrapping simulations:\n",
    "\n",
    "Region 1 demonstrates the highest mean profit ($4.57M) and a low risk of loss (1.7%), which is below the acceptable 2.5% threshold.\n",
    "\n",
    "Regions 0 and 2, despite having comparable mean profits (~$3.88M), both exceed the acceptable risk limit with loss probabilities above 6%.\n",
    "\n",
    "Recommendation:\n",
    "We recommend developing oil wells in Region 1. This region not only maximizes expected returns but also meets the risk constraints, making it the most financially and operationally viable choice.\n",
    "\n",
    "This decision aligns with the business conditions:\n",
    "\n",
    "Risk of loss < 2.5%\n",
    "\n",
    "Maximized average profit\n",
    "\n",
    "Robust performance under bootstrap analysis"
   ]
  },
  {
   "cell_type": "markdown",
   "metadata": {},
   "source": [
    "<div class=\"alert alert-block alert-warning\">\n",
    "<b>Reviewer's comment</b> <a class=\"tocSkip\"></a>\n",
    "\n",
    "The structure of this conclusion is right, however, you need to update these results upon the above red comments.\n",
    "\n",
    "</div>"
   ]
  },
  {
   "cell_type": "markdown",
   "metadata": {},
   "source": [
    "<div class=\"alert alert-block alert-success\">\n",
    "<b>Reviewer's comment v2</b> <a class=\"tocSkip\"></a>\n",
    "\n",
    "Good conclusion with the updated results.\n",
    "\n",
    "</div>"
   ]
  },
  {
   "cell_type": "code",
   "execution_count": null,
   "metadata": {},
   "outputs": [],
   "source": []
  },
  {
   "cell_type": "code",
   "execution_count": null,
   "metadata": {},
   "outputs": [],
   "source": []
  }
 ],
 "metadata": {
  "kernelspec": {
   "display_name": "Python 3 (ipykernel)",
   "language": "python",
   "name": "python3"
  },
  "language_info": {
   "codemirror_mode": {
    "name": "ipython",
    "version": 3
   },
   "file_extension": ".py",
   "mimetype": "text/x-python",
   "name": "python",
   "nbconvert_exporter": "python",
   "pygments_lexer": "ipython3",
   "version": "3.9.23"
  }
 },
 "nbformat": 4,
 "nbformat_minor": 4
}
